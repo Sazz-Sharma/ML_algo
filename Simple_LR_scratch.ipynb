{
 "cells": [
  {
   "cell_type": "code",
   "execution_count": 1,
   "id": "b0b2abbc",
   "metadata": {},
   "outputs": [],
   "source": [
    "\n"
   ]
  },
  {
   "cell_type": "code",
   "execution_count": 42,
   "id": "68b14034",
   "metadata": {},
   "outputs": [],
   "source": [
    "import numpy as np\n",
    "import pandas as pd\n",
    "import seaborn as sns\n",
    "from sklearn.model_selection import train_test_split\n",
    "import matplotlib.pyplot as plt\n",
    "df=sns.load_dataset('tips')\n",
    "arr1=df['total_bill'].values\n",
    "arr2=df['tip'].values\n",
    "arr3=df['total_bill']\n",
    "arr4=df['tip']\n",
    "\n",
    "X_train1, X_test, Y_train1, Y_test = train_test_split(arr1, arr2)\n",
    "\n",
    "X_train2, X_test2, Y_train2, Y_test2 = train_test_split(arr3, arr4)"
   ]
  },
  {
   "cell_type": "code",
   "execution_count": 36,
   "id": "1bfabba5",
   "metadata": {},
   "outputs": [
    {
     "name": "stdout",
     "output_type": "stream",
     "text": [
      "(0.24499040983981124, -1.922266620178549)\n"
     ]
    }
   ],
   "source": [
    "class simple_LR():\n",
    "    def fit(self, X_train, Y_train):\n",
    "        numerator, denominator=0, 0\n",
    "        for i in range(np.shape(X_train)[0]):\n",
    "            numerator+=numerator + (X_train[i]-X_train.mean())*(Y_train[i]-Y_train.mean())\n",
    "            denominator+=denominator + (X_train[i]-X_train.mean())**2\n",
    "        m=numerator/denominator\n",
    "        b=Y_train.mean() - m*X_train.mean()\n",
    "        return m, b\n",
    "sth1=simple_LR()\n",
    "print(sth1.fit(X_train1, Y_train1))\n",
    "        "
   ]
  },
  {
   "cell_type": "code",
   "execution_count": 62,
   "id": "e0ff1e28",
   "metadata": {},
   "outputs": [
    {
     "data": {
      "text/plain": [
       "array([[2.76602515]])"
      ]
     },
     "execution_count": 62,
     "metadata": {},
     "output_type": "execute_result"
    }
   ],
   "source": [
    "from sklearn.linear_model import LinearRegression\n",
    "reg=LinearRegression()\n",
    "reg_line=reg.fit(X_train2.values.reshape(-1,1), Y_train2.values.reshape(-1,1))\n",
    "reg_line.predict(np.array([17.6]).reshape(-1,1))"
   ]
  },
  {
   "cell_type": "code",
   "execution_count": null,
   "id": "d09ee3b0",
   "metadata": {},
   "outputs": [],
   "source": []
  }
 ],
 "metadata": {
  "kernelspec": {
   "display_name": "Python 3 (ipykernel)",
   "language": "python",
   "name": "python3"
  },
  "language_info": {
   "codemirror_mode": {
    "name": "ipython",
    "version": 3
   },
   "file_extension": ".py",
   "mimetype": "text/x-python",
   "name": "python",
   "nbconvert_exporter": "python",
   "pygments_lexer": "ipython3",
   "version": "3.11.1"
  }
 },
 "nbformat": 4,
 "nbformat_minor": 5
}
